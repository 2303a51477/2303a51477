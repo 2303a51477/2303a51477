{
  "nbformat": 4,
  "nbformat_minor": 0,
  "metadata": {
    "colab": {
      "provenance": [],
      "authorship_tag": "ABX9TyO/CmP38ZKfxx2SEwhR3o8U",
      "include_colab_link": true
    },
    "kernelspec": {
      "name": "python3",
      "display_name": "Python 3"
    },
    "language_info": {
      "name": "python"
    }
  },
  "cells": [
    {
      "cell_type": "markdown",
      "metadata": {
        "id": "view-in-github",
        "colab_type": "text"
      },
      "source": [
        "<a href=\"https://colab.research.google.com/github/2303a51477/2303a51477/blob/main/2303a51477_b_no_10.ipynb\" target=\"_parent\"><img src=\"https://colab.research.google.com/assets/colab-badge.svg\" alt=\"Open In Colab\"/></a>"
      ]
    },
    {
      "cell_type": "markdown",
      "source": [
        "predication of obealty levels based on eating habits\n",
        "1.identify the top 5 reasons for obesity level\n",
        "2.identify the age group with most obestiy\n",
        "3.find the max and min weight of patient with obesity\n",
        "4.name the top5 eating habits contribution to obesity\n",
        "5.identify the highest usage of the tech gad gets\n",
        "among obese patents\n",
        "6.apply either classification models or clustering model to evaluate the dataset"
      ],
      "metadata": {
        "id": "DQ8aplXN8Rzh"
      }
    },
    {
      "cell_type": "code",
      "source": [
        "# Importing necessary libraries\n",
        "import pandas as pd\n",
        "import numpy as np\n",
        "from sklearn.ensemble import RandomForestClassifier\n",
        "from sklearn.cluster import KMeans\n",
        "from sklearn.model_selection import train_test_split\n",
        "from sklearn.metrics import accuracy_score, classification_report\n",
        "import seaborn as sns\n",
        "import matplotlib.pyplot as plt\n",
        "\n",
        "# Load the dataset\n",
        "try:\n",
        "    # Replace \"obesity_data.csv\" with the correct file path\n",
        "    data = pd.read_csv(\"obesity_data.csv\")\n",
        "    print(\"Dataset Loaded Successfully!\")\n",
        "    print(data.head())\n",
        "    print(\"\\nDataset Information:\")\n",
        "    print(data.info())\n",
        "except FileNotFoundError:\n",
        "    print(\"Error: The file 'obesity_data.csv' was not found. Please check the file path.\")\n",
        "    exit()\n",
        "except pd.errors.EmptyDataError:\n",
        "    print(\"Error: The file is empty. Please provide a valid dataset.\")\n",
        "    exit()\n",
        "except Exception as e:\n",
        "    print(f\"An unexpected error occurred: {e}\")\n",
        "    exit()\n",
        "\n",
        "# Data Preprocessing\n",
        "# Handle missing values\n",
        "data.fillna(data.mean(), inplace=True)\n",
        "\n",
        "# One-hot encode categorical variables\n",
        "data = pd.get_dummies(data, drop_first=True)\n",
        "\n",
        "# Define features (X) and target variable (y)\n",
        "target = \"Obesity_Level\"  # Replace with the actual column name for obesity level\n",
        "if target not in data.columns:\n",
        "    print(f\"Error: Target column '{target}' not found in the dataset.\")\n",
        "    exit()\n",
        "\n",
        "X = data.drop(columns=[target])\n",
        "y = data[target]\n",
        "\n",
        "# Split dataset for classification\n",
        "X_train, X_test, y_train, y_test = train_test_split(X, y, test_size=0.2, random_state=42)\n",
        "\n",
        "# Train a Random Forest Classifier\n",
        "rf_model = RandomForestClassifier(random_state=42)\n",
        "rf_model.fit(X_train, y_train)\n",
        "\n",
        "# Evaluate the model\n",
        "y_pred = rf_model.predict(X_test)\n",
        "print(\"\\nModel Accuracy:\", accuracy_score(y_test, y_pred))\n",
        "print(\"\\nClassification Report:\\n\", classification_report(y_test, y_pred))\n",
        "\n",
        "# 1. Identify the Top 5 Reasons for Obesity Levels\n",
        "feature_importances = pd.DataFrame(\n",
        "    rf_model.feature_importances_, index=X.columns, columns=[\"Importance\"]\n",
        ").sort_values(by=\"Importance\", ascending=False)\n",
        "print(\"\\nTop 5 Reasons for Obesity Levels:\\n\", feature_importances.head(5))\n",
        "\n",
        "# Plot feature importances\n",
        "plt.figure(figsize=(10, 6))\n",
        "sns.barplot(x=feature_importances.index[:5], y=feature_importances.Importance[:5])\n",
        "plt.title(\"Top 5 Reasons for Obesity\")\n",
        "plt.xticks(rotation=45)\n",
        "plt.show()\n",
        "\n",
        "# 2. Identify the Age Group with Most Obesity\n",
        "if \"Age_Group\" in data.columns:\n",
        "    age_group_obesity = data.groupby(\"Age_Group\")[target].mean()\n",
        "    print(\"\\nAge Group with Most Obesity:\", age_group_obesity.idxmax())\n",
        "else:\n",
        "    print(\"\\nAge Group column not found in the dataset.\")\n",
        "\n",
        "# 3. Find the Max and Min Weight of Patients with Obesity\n",
        "if \"Weight\" in data.columns:\n",
        "    # Replace \"Obese\" with the correct label for obese patients in your dataset\n",
        "    obese_data = data[data[target] == \"Obese\"]\n",
        "    if not obese_data.empty:\n",
        "        max_weight = obese_data[\"Weight\"].max()\n",
        "        min_weight = obese_data[\"Weight\"].min()\n",
        "        print(\"\\nMax Weight of Obese Patients:\", max_weight)\n",
        "        print(\"Min Weight of Obese Patients:\", min_weight)\n",
        "    else:\n",
        "        print(\"\\nNo data found for obese patients.\")\n",
        "else:\n",
        "    print(\"\\nWeight column not found in the dataset.\")\n",
        "\n",
        "# 4. Top 5 Eating Habits Contributing to Obesity\n",
        "eating_habits = [\"Fast_Food_Intake\", \"Sugar_Consumption\", \"Snacking\",\n",
        "                 \"Meal_Frequency\", \"Late_Night_Eating\"]  # Replace with actual eating habit columns\n",
        "try:\n",
        "    correlations = data[eating_habits + [target]].corr()[target].abs().sort_values(ascending=False)\n",
        "    print(\"\\nTop 5 Eating Habits Contributing to Obesity:\\n\", correlations.head(5))\n",
        "except KeyError as e:\n",
        "    print(f\"\\nError: Eating habit columns missing in dataset: {e}\")\n",
        "\n",
        "# 5. Identify the Highest Usage of Tech Gadgets Among Obese Patients\n",
        "if \"Gadget_Usage\" in data.columns:\n",
        "    if not obese_data.empty:\n",
        "        avg_gadget_usage = obese_data[\"Gadget_Usage\"].mean()  # Replace with correct column name\n",
        "        print(\"\\nAverage Gadget Usage Among Obese Patients:\", avg_gadget_usage)\n",
        "    else:\n",
        "        print(\"\\nNo data found for obese patients.\")\n",
        "else:\n",
        "    print(\"\\nGadget Usage column not found in the dataset.\")\n",
        "\n",
        "# 6. Apply Clustering Model\n",
        "kmeans = KMeans(n_clusters=3, random_state=42)\n",
        "data['Cluster'] = kmeans.fit_predict(X)\n",
        "\n",
        "# Visualize Clusters\n",
        "if \"Weight\" in data.columns and \"Height\" in data.columns:\n",
        "    plt.figure(figsize=(8, 6))\n",
        "    sns.scatterplot(x=data['Weight'], y=data['Height'], hue=data['Cluster'], palette=\"viridis\")\n",
        "    plt.title(\"Clustering of Patients Based on Weight and Height\")\n",
        "    plt.xlabel(\"Weight\")\n",
        "    plt.ylabel(\"Height\")\n",
        "    plt.show()\n",
        "else:\n",
        "    print(\"\\nClustering visualization skipped: Weight or Height column not found in the dataset.\")\n"
      ],
      "metadata": {
        "colab": {
          "base_uri": "https://localhost:8080/",
          "height": 228
        },
        "id": "LxmqNGOtFhIA",
        "outputId": "a8462297-5135-487b-9ae1-657b20b448f4"
      },
      "execution_count": 1,
      "outputs": [
        {
          "output_type": "stream",
          "name": "stdout",
          "text": [
            "Error: The file 'obesity_data.csv' was not found. Please check the file path.\n"
          ]
        },
        {
          "output_type": "error",
          "ename": "NameError",
          "evalue": "name 'data' is not defined",
          "traceback": [
            "\u001b[0;31m---------------------------------------------------------------------------\u001b[0m",
            "\u001b[0;31mNameError\u001b[0m                                 Traceback (most recent call last)",
            "\u001b[0;32m<ipython-input-1-7219a49bc6bd>\u001b[0m in \u001b[0;36m<cell line: 31>\u001b[0;34m()\u001b[0m\n\u001b[1;32m     29\u001b[0m \u001b[0;31m# Data Preprocessing\u001b[0m\u001b[0;34m\u001b[0m\u001b[0;34m\u001b[0m\u001b[0m\n\u001b[1;32m     30\u001b[0m \u001b[0;31m# Handle missing values\u001b[0m\u001b[0;34m\u001b[0m\u001b[0;34m\u001b[0m\u001b[0m\n\u001b[0;32m---> 31\u001b[0;31m \u001b[0mdata\u001b[0m\u001b[0;34m.\u001b[0m\u001b[0mfillna\u001b[0m\u001b[0;34m(\u001b[0m\u001b[0mdata\u001b[0m\u001b[0;34m.\u001b[0m\u001b[0mmean\u001b[0m\u001b[0;34m(\u001b[0m\u001b[0;34m)\u001b[0m\u001b[0;34m,\u001b[0m \u001b[0minplace\u001b[0m\u001b[0;34m=\u001b[0m\u001b[0;32mTrue\u001b[0m\u001b[0;34m)\u001b[0m\u001b[0;34m\u001b[0m\u001b[0;34m\u001b[0m\u001b[0m\n\u001b[0m\u001b[1;32m     32\u001b[0m \u001b[0;34m\u001b[0m\u001b[0m\n\u001b[1;32m     33\u001b[0m \u001b[0;31m# One-hot encode categorical variables\u001b[0m\u001b[0;34m\u001b[0m\u001b[0;34m\u001b[0m\u001b[0m\n",
            "\u001b[0;31mNameError\u001b[0m: name 'data' is not defined"
          ]
        }
      ]
    }
  ]
}